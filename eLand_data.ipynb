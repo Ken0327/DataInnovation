{
 "cells": [
  {
   "cell_type": "code",
   "execution_count": 1,
   "metadata": {},
   "outputs": [
    {
     "name": "stderr",
     "output_type": "stream",
     "text": [
      "C:\\Users\\user\\Anaconda3\\lib\\site-packages\\IPython\\core\\interactiveshell.py:2728: DtypeWarning: Columns (1,3,4,7) have mixed types. Specify dtype option on import or set low_memory=False.\n",
      "  interactivity=interactivity, compiler=compiler, result=result)\n"
     ]
    }
   ],
   "source": [
    "#!/usr/bin/env python\n",
    "import os\n",
    "import numpy as np\n",
    "import pandas as pd\n",
    "import matplotlib.pyplot as plt\n",
    "import seaborn as sns\n",
    "\n",
    "# data_path\n",
    "dir_data = './data/TW'\n",
    "f_app_train = os.path.join(dir_data, 'eLand_data.CSV')\n",
    "app_train = pd.read_csv(f_app_train)"
   ]
  },
  {
   "cell_type": "code",
   "execution_count": 2,
   "metadata": {},
   "outputs": [
    {
     "data": {
      "text/html": [
       "<div>\n",
       "<style scoped>\n",
       "    .dataframe tbody tr th:only-of-type {\n",
       "        vertical-align: middle;\n",
       "    }\n",
       "\n",
       "    .dataframe tbody tr th {\n",
       "        vertical-align: top;\n",
       "    }\n",
       "\n",
       "    .dataframe thead th {\n",
       "        text-align: right;\n",
       "    }\n",
       "</style>\n",
       "<table border=\"1\" class=\"dataframe\">\n",
       "  <thead>\n",
       "    <tr style=\"text-align: right;\">\n",
       "      <th></th>\n",
       "      <th>標題</th>\n",
       "      <th>內容</th>\n",
       "      <th>來源</th>\n",
       "      <th>來源網站</th>\n",
       "      <th>發布時間</th>\n",
       "      <th>討論串總則數</th>\n",
       "      <th>作者</th>\n",
       "      <th>情緒標記</th>\n",
       "      <th>原始連結</th>\n",
       "    </tr>\n",
       "  </thead>\n",
       "  <tbody>\n",
       "    <tr>\n",
       "      <th>0</th>\n",
       "      <td>喝點高度白酒曬曬太陽,看來有益健康~~~隨身帶點消毒...</td>\n",
       "      <td>喝點高度白酒曬曬太陽,看來有益健康~~~隨身帶點消毒濕紙巾跟口罩-\\-\\-\\-\\</td>\n",
       "      <td>社群網站</td>\n",
       "      <td>Facebook公開社團 &gt; 韓國瑜穿雲鐵柱後援會</td>\n",
       "      <td>2020/01/23 11:44:00</td>\n",
       "      <td>0.0</td>\n",
       "      <td>J*********</td>\n",
       "      <td>中立</td>\n",
       "      <td>http://www.facebook.com/permalink.php?story_fb...</td>\n",
       "    </tr>\n",
       "    <tr>\n",
       "      <th>1</th>\n",
       "      <td>喝點高度白酒曬曬太陽,看來有益健康~~~隨身帶點消毒...</td>\n",
       "      <td>喝點高度白酒曬曬太陽,看來有益健康~~~隨身帶點消毒濕紙巾跟口罩-\\-\\-\\-\\</td>\n",
       "      <td>社群網站</td>\n",
       "      <td>Facebook公開社團 &gt; 爆吱戰堂</td>\n",
       "      <td>2020/01/23 11:46:00</td>\n",
       "      <td>1.0</td>\n",
       "      <td>J*********</td>\n",
       "      <td>中立</td>\n",
       "      <td>http://www.facebook.com/permalink.php?story_fb...</td>\n",
       "    </tr>\n",
       "    <tr>\n",
       "      <th>2</th>\n",
       "      <td>#知識文#懶人包#冠狀病毒#SARS #武漢肺炎#中...</td>\n",
       "      <td>#知識文#懶人包#冠狀病毒#SARS #武漢肺炎&lt;br /&gt;(以下為轉貼文章)&lt;</td>\n",
       "      <td>社群網站</td>\n",
       "      <td>Facebook公開社團 &gt; 彰化縣民對魏縣長建言交流討論區</td>\n",
       "      <td>2020/01/21 18:56:00</td>\n",
       "      <td>0.0</td>\n",
       "      <td>L*******</td>\n",
       "      <td>負面</td>\n",
       "      <td>http://www.facebook.com/permalink.php?story_fb...</td>\n",
       "    </tr>\n",
       "    <tr>\n",
       "      <th>3</th>\n",
       "      <td>【武漢肺炎6大必知防疫知識，何松穎醫師一次解析。】 　開啟《今健康》官網閱讀：...</td>\n",
       "      <td>(以下為轉貼文章)&lt;br /&gt;【武漢肺炎6大必知防疫知識，何松穎醫師一次解析。】</td>\n",
       "      <td>社群網站</td>\n",
       "      <td>Facebook粉絲團 &gt; 新聞挖挖哇粉絲團</td>\n",
       "      <td>2020/01/22 20:17:00</td>\n",
       "      <td>2.0</td>\n",
       "      <td>新聞挖挖哇粉絲團</td>\n",
       "      <td>中立</td>\n",
       "      <td>http://www.facebook.com/permalink.php?story_fb...</td>\n",
       "    </tr>\n",
       "    <tr>\n",
       "      <th>4</th>\n",
       "      <td>https://www.youtube.com/watch?v=V2...</td>\n",
       "      <td>https://www.youtube.com/watch?v=V2mqaDcO</td>\n",
       "      <td>社群網站</td>\n",
       "      <td>Facebook粉絲團 &gt; 楊晨熙</td>\n",
       "      <td>2020/01/17 17:11:29</td>\n",
       "      <td>0.0</td>\n",
       "      <td>無作者資訊</td>\n",
       "      <td>中立</td>\n",
       "      <td>http://www.facebook.com/permalink.php?story_fb...</td>\n",
       "    </tr>\n",
       "  </tbody>\n",
       "</table>\n",
       "</div>"
      ],
      "text/plain": [
       "                                           標題  \\\n",
       "0               喝點高度白酒曬曬太陽,看來有益健康~~~隨身帶點消毒...   \n",
       "1               喝點高度白酒曬曬太陽,看來有益健康~~~隨身帶點消毒...   \n",
       "2               #知識文#懶人包#冠狀病毒#SARS #武漢肺炎#中...   \n",
       "3  【武漢肺炎6大必知防疫知識，何松穎醫師一次解析。】 　開啟《今健康》官網閱讀：...   \n",
       "4       https://www.youtube.com/watch?v=V2...   \n",
       "\n",
       "                                         內容    來源  \\\n",
       "0  喝點高度白酒曬曬太陽,看來有益健康~~~隨身帶點消毒濕紙巾跟口罩-\\-\\-\\-\\  社群網站   \n",
       "1  喝點高度白酒曬曬太陽,看來有益健康~~~隨身帶點消毒濕紙巾跟口罩-\\-\\-\\-\\  社群網站   \n",
       "2  #知識文#懶人包#冠狀病毒#SARS #武漢肺炎<br />(以下為轉貼文章)<  社群網站   \n",
       "3  (以下為轉貼文章)<br />【武漢肺炎6大必知防疫知識，何松穎醫師一次解析。】  社群網站   \n",
       "4  https://www.youtube.com/watch?v=V2mqaDcO  社群網站   \n",
       "\n",
       "                             來源網站                 發布時間  討論串總則數          作者  \\\n",
       "0       Facebook公開社團 > 韓國瑜穿雲鐵柱後援會  2020/01/23 11:44:00     0.0  J*********   \n",
       "1             Facebook公開社團 > 爆吱戰堂  2020/01/23 11:46:00     1.0  J*********   \n",
       "2  Facebook公開社團 > 彰化縣民對魏縣長建言交流討論區  2020/01/21 18:56:00     0.0    L*******   \n",
       "3          Facebook粉絲團 > 新聞挖挖哇粉絲團  2020/01/22 20:17:00     2.0    新聞挖挖哇粉絲團   \n",
       "4               Facebook粉絲團 > 楊晨熙  2020/01/17 17:11:29     0.0       無作者資訊   \n",
       "\n",
       "  情緒標記                                               原始連結  \n",
       "0   中立  http://www.facebook.com/permalink.php?story_fb...  \n",
       "1   中立  http://www.facebook.com/permalink.php?story_fb...  \n",
       "2   負面  http://www.facebook.com/permalink.php?story_fb...  \n",
       "3   中立  http://www.facebook.com/permalink.php?story_fb...  \n",
       "4   中立  http://www.facebook.com/permalink.php?story_fb...  "
      ]
     },
     "execution_count": 2,
     "metadata": {},
     "output_type": "execute_result"
    }
   ],
   "source": [
    "app_train.head()"
   ]
  },
  {
   "cell_type": "code",
   "execution_count": 3,
   "metadata": {},
   "outputs": [
    {
     "data": {
      "text/plain": [
       "標題        649586\n",
       "內容        373251\n",
       "來源        649586\n",
       "來源網站      373346\n",
       "發布時間      373346\n",
       "討論串總則數    373346\n",
       "作者        649586\n",
       "情緒標記      373346\n",
       "原始連結      649576\n",
       "dtype: int64"
      ]
     },
     "execution_count": 3,
     "metadata": {},
     "output_type": "execute_result"
    }
   ],
   "source": [
    "# Total Count\n",
    "app_train.count()"
   ]
  },
  {
   "cell_type": "code",
   "execution_count": 14,
   "metadata": {},
   "outputs": [
    {
     "name": "stdout",
     "output_type": "stream",
     "text": [
      "Total Count: 649586\n",
      "Keyword Count: 22041\n",
      "Percentage: 3.39%\n"
     ]
    }
   ],
   "source": [
    "# Find Keyword and count\n",
    "\n",
    "Keyword = ['旅行', '旅遊', '出國', '不能出國', '偽旅行', '遊記', '機票']\n",
    "TotalCount = 649586\n",
    "Count = 0\n",
    "\n",
    "for i in app_train.index:\n",
    "    topic = app_train['標題'][i]\n",
    "    content = app_train['內容'][i]\n",
    "    if type(topic) == str and type(content) == str:\n",
    "        res = [ele for ele in Keyword if(ele in topic)]\n",
    "        if bool(res):\n",
    "            Count += 1\n",
    "        else:\n",
    "            res = [ele for ele in Keyword if(ele in content)]\n",
    "            if bool(res):\n",
    "                Count += 1\n",
    "\n",
    "print('Total Count: ' + str(TotalCount))\n",
    "print('Keyword Count: ' + str(Count))\n",
    "print('Percentage: ' + str(round((Count / TotalCount * 100), 2)) + '%')"
   ]
  },
  {
   "cell_type": "code",
   "execution_count": null,
   "metadata": {},
   "outputs": [],
   "source": []
  }
 ],
 "metadata": {
  "kernelspec": {
   "display_name": "Python 3",
   "language": "python",
   "name": "python3"
  },
  "language_info": {
   "codemirror_mode": {
    "name": "ipython",
    "version": 3
   },
   "file_extension": ".py",
   "mimetype": "text/x-python",
   "name": "python",
   "nbconvert_exporter": "python",
   "pygments_lexer": "ipython3",
   "version": "3.6.4"
  }
 },
 "nbformat": 4,
 "nbformat_minor": 2
}
