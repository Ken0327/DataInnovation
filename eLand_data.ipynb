{
 "cells": [
  {
   "cell_type": "code",
   "execution_count": null,
   "metadata": {},
   "outputs": [],
   "source": [
    "#!/usr/bin/env python\n",
    "import os\n",
    "import numpy as np\n",
    "import pandas as pd\n",
    "import matplotlib.pyplot as plt\n",
    "import seaborn as sns\n",
    "\n",
    "# data_path\n",
    "dir_data = './data/TW'\n",
    "f_app_train = os.path.join(dir_data, 'eLand_data.CSV')\n",
    "app_train = pd.read_csv(f_app_train)"
   ]
  },
  {
   "cell_type": "code",
   "execution_count": null,
   "metadata": {},
   "outputs": [],
   "source": [
    "app_train.head()"
   ]
  },
  {
   "cell_type": "code",
   "execution_count": null,
   "metadata": {},
   "outputs": [],
   "source": [
    "# Total Count\n",
    "app_train.count()"
   ]
  },
  {
   "cell_type": "code",
   "execution_count": null,
   "metadata": {},
   "outputs": [],
   "source": [
    "# Find Keyword and count\n",
    "\n",
    "Keyword = ['旅行', '旅遊', '出國', '不能出國', '偽旅行', '遊記', '機票']\n",
    "TotalCount = 649586\n",
    "Count = 0\n",
    "\n",
    "for string in app_train['標題']:\n",
    "    res = [ele for ele in Keyword if(ele in string)]\n",
    "    if bool(res):\n",
    "        Count += 1\n",
    "        \n",
    "print('Total Count: ' + str(TotalCount))\n",
    "print('Keyword Count: ' + str(Count))\n",
    "print('Percentage: ' + str(round((Count/TotalCount*100), 2)) + '%')"
   ]
  },
  {
   "cell_type": "code",
   "execution_count": null,
   "metadata": {},
   "outputs": [],
   "source": []
  }
 ],
 "metadata": {
  "kernelspec": {
   "display_name": "Python 3",
   "language": "python",
   "name": "python3"
  },
  "language_info": {
   "codemirror_mode": {
    "name": "ipython",
    "version": 3
   },
   "file_extension": ".py",
   "mimetype": "text/x-python",
   "name": "python",
   "nbconvert_exporter": "python",
   "pygments_lexer": "ipython3",
   "version": "3.6.4"
  }
 },
 "nbformat": 4,
 "nbformat_minor": 2
}
